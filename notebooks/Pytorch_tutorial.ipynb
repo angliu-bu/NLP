{
 "cells": [
  {
   "cell_type": "code",
   "execution_count": 10,
   "id": "c4ccff61",
   "metadata": {},
   "outputs": [
    {
     "name": "stdout",
     "output_type": "stream",
     "text": [
      "['home', 'usr', '.DS_Store', 'bin', 'sbin', '.file', 'etc', 'var', 'Library', 'System', '.VolumeIcon.icns', '.fseventsd', 'private', '.vol', 'Users', 'Applications', 'opt', 'dev', 'Volumes', 'tmp', 'cores']\n",
      "/Users/marcochan/Desktop/NLP/notebooks\r\n"
     ]
    }
   ],
   "source": [
    "# material from https://www.kaggle.com/kanncaa1/pytorch-tutorial-for-deep-learning-lovers\n",
    "import numpy as np\n",
    "import pandas as pd\n",
    "import matplotlib.pyplot as plt\n",
    "import os\n",
    "import torch\n",
    "print(os.listdir(\"/\"))\n",
    "!pwd"
   ]
  },
  {
   "cell_type": "code",
   "execution_count": 14,
   "id": "b32981ef",
   "metadata": {},
   "outputs": [
    {
     "name": "stdout",
     "output_type": "stream",
     "text": [
      "<class 'numpy.ndarray'>\n",
      "<class 'torch.Tensor'>\n",
      "tensor([[1., 1., 1.],\n",
      "        [1., 1., 1.]]) \n",
      " tensor([[0.0240, 0.1074, 0.3058],\n",
      "        [0.7881, 0.1872, 0.8020]])\n"
     ]
    }
   ],
   "source": [
    "array = np.array([[1,2,3], [4,5,6]])\n",
    "print(type(array))\n",
    "tensor = torch.tensor(array)\n",
    "print(type(tensor))\n",
    "a = torch.ones((2,3))  # note parentheses or no parenthessi has hte same results\n",
    "b  = torch.rand(2,3)   # no parentheses\n",
    "print(a, '\\n', b)"
   ]
  },
  {
   "cell_type": "code",
   "execution_count": 18,
   "id": "6a627250",
   "metadata": {},
   "outputs": [
    {
     "name": "stdout",
     "output_type": "stream",
     "text": [
      "tensor([[1, 2, 3],\n",
      "        [4, 5, 6]]) <class 'torch.Tensor'>\n",
      "[[1 2 3]\n",
      " [4 5 6]] <class 'numpy.ndarray'>\n"
     ]
    }
   ],
   "source": [
    "# usuauly convert from tensor to numpy for analysis and plotting\n",
    "tensor = torch.from_numpy(array)\n",
    "print(tensor, type(tensor))\n",
    "\n",
    "array = tensor.numpy()\n",
    "print(array, type(array))"
   ]
  },
  {
   "cell_type": "code",
   "execution_count": 26,
   "id": "072eab46",
   "metadata": {},
   "outputs": [
    {
     "name": "stdout",
     "output_type": "stream",
     "text": [
      "tensor([1., 1., 1., 1., 1., 1., 1., 1., 1.]) torch.Size([9])\n",
      "Addition: tensor([[2., 2., 2.],\n",
      "        [2., 2., 2.],\n",
      "        [2., 2., 2.]]) \n",
      "\n",
      "Sub: tensor([[0., 0., 0.],\n",
      "        [0., 0., 0.],\n",
      "        [0., 0., 0.]]) \n",
      "\n",
      "mul: tensor([[1., 1., 1.],\n",
      "        [1., 1., 1.],\n",
      "        [1., 1., 1.]]) \n",
      "\n",
      "div: tensor([[1., 1., 1.],\n",
      "        [1., 1., 1.],\n",
      "        [1., 1., 1.]]) \n",
      "\n",
      "mean: 1.0 \n",
      "\n",
      "std 0.0 \n",
      "\n"
     ]
    }
   ],
   "source": [
    "# math\n",
    "a = torch.ones(3,3)\n",
    "b = a.view(9)\n",
    "print(b, b.shape)\n",
    "\n",
    "print('Addition: {} \\n'.format(torch.add(a, a)))\n",
    "print('Sub: {} \\n'.format(torch.sub(a, a)))\n",
    "print('mul: {} \\n'.format(torch.mul(a, a)))\n",
    "print('div: {} \\n'.format(torch.div(a, a)))\n",
    "\n",
    "print('mean: {} \\n'.format(a.mean()))\n",
    "print('std {} \\n'.format(a.std()))"
   ]
  },
  {
   "cell_type": "code",
   "execution_count": 39,
   "id": "9a867d77",
   "metadata": {},
   "outputs": [
    {
     "name": "stdout",
     "output_type": "stream",
     "text": [
      "tensor([[1., 1., 1.],\n",
      "        [1., 1., 1.]])\n",
      "tensor([[5., 5., 5.],\n",
      "        [5., 5., 5.]])\n",
      "tensor([[5.0000e+00, 5.0000e+00, 5.0000e+00, 5.0000e+00],\n",
      "        [5.0000e+00, 5.0000e+00, 0.0000e+00, 3.6734e-40]])\n",
      "tensor([[8., 8., 8., 8.],\n",
      "        [8., 8., 8., 8.]])\n"
     ]
    }
   ],
   "source": [
    "x = torch.ones(2, 3)\n",
    "print(x)\n",
    "x.fill_(5)\n",
    "print(x)\n",
    "a = torch.Tensor(2,4)\n",
    "print(a)\n",
    "a = torch.Tensor(2,4).fill_(8)\n",
    "print(a)"
   ]
  },
  {
   "cell_type": "code",
   "execution_count": 45,
   "id": "38a111d7",
   "metadata": {},
   "outputs": [
    {
     "name": "stdout",
     "output_type": "stream",
     "text": [
      "tensor([0, 1, 2, 3, 4, 5])\n",
      "tensor([[0, 1, 2],\n",
      "        [3, 4, 5]])\n",
      "tensor([[ 0.1431, -1.6752, -0.9744],\n",
      "        [-0.1560,  0.1846,  1.0017]])\n",
      "tensor([-0.0129, -1.4906,  0.0273]) tensor([-2.5066,  1.0304])\n"
     ]
    }
   ],
   "source": [
    "x = torch.arange(6)  # equal to torch.arange(0, 6)\n",
    "print(x)\n",
    "\n",
    "x = x.view(2, 3)\n",
    "print(x)\n",
    "\n",
    "x = torch.randn(2, 3)\n",
    "print(x)\n",
    "\n",
    "xsum = torch.sum(x, dim=0)\n",
    "xsum2 = torch.sum(x, dim=1)\n",
    "print(xsum, xsum2)"
   ]
  },
  {
   "cell_type": "code",
   "execution_count": 63,
   "id": "15459017",
   "metadata": {},
   "outputs": [
    {
     "name": "stdout",
     "output_type": "stream",
     "text": [
      "tensor([ 0,  1,  2,  3,  4,  5,  6,  7,  8,  9, 10, 11, 12, 13, 14, 15])\n",
      "tensor([[ 0,  1,  2,  3],\n",
      "        [ 4,  5,  6,  7],\n",
      "        [ 8,  9, 10, 11],\n",
      "        [12, 13, 14, 15]])\n",
      "tensor([[ 0,  1],\n",
      "        [ 2,  3],\n",
      "        [ 4,  5],\n",
      "        [ 6,  7],\n",
      "        [ 8,  9],\n",
      "        [10, 11],\n",
      "        [12, 13],\n",
      "        [14, 15]])\n",
      "torch.Size([8, 1, 2]) tensor([[[ 0,  1]],\n",
      "\n",
      "        [[ 2,  3]],\n",
      "\n",
      "        [[ 4,  5]],\n",
      "\n",
      "        [[ 6,  7]],\n",
      "\n",
      "        [[ 8,  9]],\n",
      "\n",
      "        [[10, 11]],\n",
      "\n",
      "        [[12, 13]],\n",
      "\n",
      "        [[14, 15]]])\n",
      "torch.Size([8, 2]) tensor([[ 0,  1],\n",
      "        [ 2,  3],\n",
      "        [ 4,  5],\n",
      "        [ 6,  7],\n",
      "        [ 8,  9],\n",
      "        [10, 11],\n",
      "        [12, 13],\n",
      "        [14, 15]])\n",
      "tensor([[0, 1],\n",
      "        [2, 3]])\n",
      "tensor([[ 0,  1],\n",
      "        [10, 11]])\n"
     ]
    }
   ],
   "source": [
    "x = torch.arange(16)\n",
    "print(x)\n",
    "x = torch.arange(16).view(4, 4)\n",
    "print(x)\n",
    "\n",
    "x = x.view(8, 2)\n",
    "print(x)\n",
    "\n",
    "x = x.unsqueeze(dim=1)\n",
    "print(x.shape, x)\n",
    "\n",
    "x = x.squeeze()\n",
    "print(x.shape, x)\n",
    "\n",
    "print(x[:2, :2])\n",
    "\n",
    "index = torch.LongTensor([0, 5])\n",
    "print(x[index])\n"
   ]
  },
  {
   "cell_type": "code",
   "execution_count": 72,
   "id": "9e937401",
   "metadata": {},
   "outputs": [
    {
     "name": "stdout",
     "output_type": "stream",
     "text": [
      "tensor([[ 0,  1,  2,  3],\n",
      "        [ 4,  5,  6,  7],\n",
      "        [ 8,  9, 10, 11]]) tensor([[12, 13, 14, 15],\n",
      "        [16, 17, 18, 19],\n",
      "        [20, 21, 22, 23]])\n",
      "tensor([[ 0,  1,  2,  3],\n",
      "        [ 4,  5,  6,  7],\n",
      "        [ 8,  9, 10, 11],\n",
      "        [12, 13, 14, 15],\n",
      "        [16, 17, 18, 19],\n",
      "        [20, 21, 22, 23]])\n",
      "tensor([[ 0,  1,  2,  3, 12, 13, 14, 15],\n",
      "        [ 4,  5,  6,  7, 16, 17, 18, 19],\n",
      "        [ 8,  9, 10, 11, 20, 21, 22, 23]])\n",
      "tensor([[[ 0,  1,  2,  3],\n",
      "         [ 4,  5,  6,  7],\n",
      "         [ 8,  9, 10, 11]],\n",
      "\n",
      "        [[12, 13, 14, 15],\n",
      "         [16, 17, 18, 19],\n",
      "         [20, 21, 22, 23]]])\n",
      "torch.Size([2, 3, 4])\n"
     ]
    }
   ],
   "source": [
    "## concatenation\n",
    "a= torch.arange(12).view(3, 4)\n",
    "b = torch.arange(12, 24).view(3, 4)\n",
    "print(a, b)\n",
    "print(torch.cat([a, b], dim=0))   # maintain the origian dimension. \n",
    "print(torch.cat([a, b], dim=-1))\n",
    "print(torch.stack([a, b]))   # extend one more dimension.  # extend one more dimension. \n",
    "print(torch.stack([a, b]).shape)   # extend one more dimension. "
   ]
  },
  {
   "cell_type": "code",
   "execution_count": null,
   "id": "9cf243ba",
   "metadata": {},
   "outputs": [],
   "source": []
  },
  {
   "cell_type": "code",
   "execution_count": null,
   "id": "5c03bb74",
   "metadata": {},
   "outputs": [],
   "source": []
  },
  {
   "cell_type": "code",
   "execution_count": null,
   "id": "6bb1a169",
   "metadata": {},
   "outputs": [],
   "source": []
  },
  {
   "cell_type": "code",
   "execution_count": null,
   "id": "e2b24f7a",
   "metadata": {},
   "outputs": [],
   "source": []
  },
  {
   "cell_type": "code",
   "execution_count": null,
   "id": "8bba665a",
   "metadata": {},
   "outputs": [],
   "source": []
  },
  {
   "cell_type": "code",
   "execution_count": null,
   "id": "d28d451b",
   "metadata": {},
   "outputs": [],
   "source": []
  },
  {
   "cell_type": "code",
   "execution_count": null,
   "id": "62d9c475",
   "metadata": {},
   "outputs": [],
   "source": []
  },
  {
   "cell_type": "code",
   "execution_count": 31,
   "id": "3b0f2575",
   "metadata": {},
   "outputs": [
    {
     "name": "stdout",
     "output_type": "stream",
     "text": [
      "tensor([ 4., 16.], grad_fn=<PowBackward0>)\n",
      "tensor(10., grad_fn=<MulBackward0>)\n",
      "tensor([2., 4.])\n"
     ]
    }
   ],
   "source": [
    "# variables, store gradient, only difference between variables and tensor\n",
    "\n",
    "from torch.autograd import Variable\n",
    "var = Variable(torch.ones(3), requires_grad=True)\n",
    "x = Variable(torch.Tensor([2, 4]), requires_grad = True)\n",
    "y = x**2\n",
    "print(y)\n",
    "o = 1/2 * sum(y)\n",
    "print(o)\n",
    "o.backward() # calculate gradient\n",
    "print(x.grad)"
   ]
  },
  {
   "cell_type": "code",
   "execution_count": null,
   "id": "94ac2e20",
   "metadata": {},
   "outputs": [],
   "source": [
    "# Deep learning model torch implementation examples\n",
    "\n",
    "train = pd.read_csv(r\"../input/train.csv\",dtype = np.float32)\n",
    "\n",
    "# split data into features(pixels) and labels(numbers from 0 to 9)\n",
    "targets_numpy = train.label.values\n",
    "features_numpy = train.loc[:,train.columns != \"label\"].values/255 # normalization\n",
    "\n",
    "# train test split. Size of train data is 80% and size of test data is 20%. \n",
    "features_train, features_test, targets_train, targets_test = train_test_split(features_numpy,\n",
    "                                                                             targets_numpy,\n",
    "                                                                             test_size = 0.2,\n",
    "                                                                             random_state = 42) \n",
    "\n",
    "# create feature and targets tensor for train set. \n",
    "# As you remember we need variable to accumulate gradients. Therefore first we create tensor, then we will create variable\n",
    "featuresTrain = torch.from_numpy(features_train)\n",
    "targetsTrain = torch.from_numpy(targets_train).type(torch.LongTensor) # data type is long\n",
    "\n",
    "# create feature and targets tensor for test set.\n",
    "featuresTest = torch.from_numpy(features_test)\n",
    "targetsTest = torch.from_numpy(targets_test).type(torch.LongTensor) # data type is long\n",
    "\n",
    "# create feature and targets tensor for train set. As you remember we need variable to accumulate gradients. Therefore first we create tensor, then we will create variable\n",
    "featuresTrain = torch.from_numpy(features_train)\n",
    "targetsTrain = torch.from_numpy(targets_train).type(torch.LongTensor) # data type is long\n",
    "\n",
    "# create feature and targets tensor for test set.\n",
    "featuresTest = torch.from_numpy(features_test)\n",
    "targetsTest = torch.from_numpy(targets_test).type(torch.LongTensor) # data type is long\n",
    "\n",
    "\n",
    "\n",
    "# batch_size, epoch and iteration\n",
    "batch_size = 100\n",
    "n_iters = 10000\n",
    "num_epochs = n_iters / (len(features_train) / batch_size)\n",
    "num_epochs = int(num_epochs)\n",
    "\n",
    "# Pytorch train and test sets\n",
    "train = torch.utils.data.TensorDataset(featuresTrain,targetsTrain)\n",
    "test = torch.utils.data.TensorDataset(featuresTest,targetsTest)\n",
    "\n",
    "# data loader\n",
    "train_loader = DataLoader(train, batch_size = batch_size, shuffle = False)\n",
    "test_loader = DataLoader(test, batch_size = batch_size, shuffle = False)\n",
    "\n",
    "# visualize one of the images in data set\n",
    "plt.imshow(features_numpy[10].reshape(28,28))\n",
    "plt.axis(\"off\")\n",
    "plt.title(str(targets_numpy[10]))\n",
    "plt.savefig('graph.png')\n",
    "plt.show()\n",
    "\n",
    "# in the model before training, convert input into Variable   e.g.\n",
    "for epoch in range(num_epochs):\n",
    "    for i, (images, labels) in enumerate(train_loader):\n",
    "        \n",
    "        # Define variables\n",
    "        train = train.to(device)\n",
    "        labels = labels.to(device)\n",
    "        \n",
    "        # Clear gradients\n",
    "        optimizer.zero_grad()\n",
    "        \n",
    "        # Forward propagation\n",
    "        outputs = model(train)\n",
    "        \n",
    "        # Calculate softmax and cross entropy loss\n",
    "        loss = error(outputs, labels)\n",
    "        \n",
    "        # Calculate gradients\n",
    "        loss.backward()\n",
    "        # Update parameters\n",
    "        optimizer.step()"
   ]
  },
  {
   "cell_type": "code",
   "execution_count": null,
   "id": "a48f642b",
   "metadata": {},
   "outputs": [],
   "source": []
  },
  {
   "cell_type": "code",
   "execution_count": null,
   "id": "90257bed",
   "metadata": {},
   "outputs": [],
   "source": []
  }
 ],
 "metadata": {
  "kernelspec": {
   "display_name": "Python 3",
   "language": "python",
   "name": "python3"
  },
  "language_info": {
   "codemirror_mode": {
    "name": "ipython",
    "version": 3
   },
   "file_extension": ".py",
   "mimetype": "text/x-python",
   "name": "python",
   "nbconvert_exporter": "python",
   "pygments_lexer": "ipython3",
   "version": "3.8.8"
  }
 },
 "nbformat": 4,
 "nbformat_minor": 5
}
