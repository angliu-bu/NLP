{
 "cells": [
  {
   "cell_type": "code",
   "execution_count": 10,
   "id": "c4ccff61",
   "metadata": {},
   "outputs": [
    {
     "name": "stdout",
     "output_type": "stream",
     "text": [
      "['home', 'usr', '.DS_Store', 'bin', 'sbin', '.file', 'etc', 'var', 'Library', 'System', '.VolumeIcon.icns', '.fseventsd', 'private', '.vol', 'Users', 'Applications', 'opt', 'dev', 'Volumes', 'tmp', 'cores']\n",
      "/Users/marcochan/Desktop/NLP/notebooks\r\n"
     ]
    }
   ],
   "source": [
    "# material from https://www.kaggle.com/kanncaa1/pytorch-tutorial-for-deep-learning-lovers\n",
    "import numpy as np\n",
    "import pandas as pd\n",
    "import matplotlib.pyplot as plt\n",
    "import os\n",
    "import torch\n",
    "print(os.listdir(\"/\"))\n",
    "!pwd"
   ]
  },
  {
   "cell_type": "code",
   "execution_count": 14,
   "id": "b32981ef",
   "metadata": {},
   "outputs": [
    {
     "name": "stdout",
     "output_type": "stream",
     "text": [
      "<class 'numpy.ndarray'>\n",
      "<class 'torch.Tensor'>\n",
      "tensor([[1., 1., 1.],\n",
      "        [1., 1., 1.]]) \n",
      " tensor([[0.0240, 0.1074, 0.3058],\n",
      "        [0.7881, 0.1872, 0.8020]])\n"
     ]
    }
   ],
   "source": [
    "array = np.array([[1,2,3], [4,5,6]])\n",
    "print(type(array))\n",
    "tensor = torch.tensor(array)\n",
    "print(type(tensor))\n",
    "a = torch.ones((2,3))  # note parentheses or no parenthessi has hte same results\n",
    "b  = torch.rand(2,3)   # no parentheses\n",
    "print(a, '\\n', b)"
   ]
  },
  {
   "cell_type": "code",
   "execution_count": 18,
   "id": "6a627250",
   "metadata": {},
   "outputs": [
    {
     "name": "stdout",
     "output_type": "stream",
     "text": [
      "tensor([[1, 2, 3],\n",
      "        [4, 5, 6]]) <class 'torch.Tensor'>\n",
      "[[1 2 3]\n",
      " [4 5 6]] <class 'numpy.ndarray'>\n"
     ]
    }
   ],
   "source": [
    "# usuauly convert from tensor to numpy for analysis and plotting\n",
    "tensor = torch.from_numpy(array)\n",
    "print(tensor, type(tensor))\n",
    "\n",
    "array = tensor.numpy()\n",
    "print(array, type(array))"
   ]
  },
  {
   "cell_type": "code",
   "execution_count": 26,
   "id": "072eab46",
   "metadata": {},
   "outputs": [
    {
     "name": "stdout",
     "output_type": "stream",
     "text": [
      "tensor([1., 1., 1., 1., 1., 1., 1., 1., 1.]) torch.Size([9])\n",
      "Addition: tensor([[2., 2., 2.],\n",
      "        [2., 2., 2.],\n",
      "        [2., 2., 2.]]) \n",
      "\n",
      "Sub: tensor([[0., 0., 0.],\n",
      "        [0., 0., 0.],\n",
      "        [0., 0., 0.]]) \n",
      "\n",
      "mul: tensor([[1., 1., 1.],\n",
      "        [1., 1., 1.],\n",
      "        [1., 1., 1.]]) \n",
      "\n",
      "div: tensor([[1., 1., 1.],\n",
      "        [1., 1., 1.],\n",
      "        [1., 1., 1.]]) \n",
      "\n",
      "mean: 1.0 \n",
      "\n",
      "std 0.0 \n",
      "\n"
     ]
    }
   ],
   "source": [
    "# math\n",
    "a = torch.ones(3,3)\n",
    "b = a.view(9)\n",
    "print(b, b.shape)\n",
    "\n",
    "print('Addition: {} \\n'.format(torch.add(a, a)))\n",
    "print('Sub: {} \\n'.format(torch.sub(a, a)))\n",
    "print('mul: {} \\n'.format(torch.mul(a, a)))\n",
    "print('div: {} \\n'.format(torch.div(a, a)))\n",
    "\n",
    "print('mean: {} \\n'.format(a.mean()))\n",
    "print('std {} \\n'.format(a.std()))"
   ]
  },
  {
   "cell_type": "code",
   "execution_count": 31,
   "id": "3b0f2575",
   "metadata": {},
   "outputs": [
    {
     "name": "stdout",
     "output_type": "stream",
     "text": [
      "tensor([ 4., 16.], grad_fn=<PowBackward0>)\n",
      "tensor(10., grad_fn=<MulBackward0>)\n",
      "tensor([2., 4.])\n"
     ]
    }
   ],
   "source": [
    "# variables, store gradient, only difference between variables and tensor\n",
    "\n",
    "from torch.autograd import Variable\n",
    "var = Variable(torch.ones(3), requires_grad=True)\n",
    "x = Variable(torch.Tensor([2, 4]), requires_grad = True)\n",
    "y = x**2\n",
    "print(y)\n",
    "o = 1/2 * sum(y)\n",
    "print(o)\n",
    "o.backward() # calculate gradient\n",
    "print(x.grad)"
   ]
  },
  {
   "cell_type": "code",
   "execution_count": null,
   "id": "94ac2e20",
   "metadata": {},
   "outputs": [],
   "source": [
    "# Deep learning model torch implementation examples\n",
    "\n",
    "train = pd.read_csv(r\"../input/train.csv\",dtype = np.float32)\n",
    "\n",
    "# split data into features(pixels) and labels(numbers from 0 to 9)\n",
    "targets_numpy = train.label.values\n",
    "features_numpy = train.loc[:,train.columns != \"label\"].values/255 # normalization\n",
    "\n",
    "# train test split. Size of train data is 80% and size of test data is 20%. \n",
    "features_train, features_test, targets_train, targets_test = train_test_split(features_numpy,\n",
    "                                                                             targets_numpy,\n",
    "                                                                             test_size = 0.2,\n",
    "                                                                             random_state = 42) \n",
    "\n",
    "# create feature and targets tensor for train set. \n",
    "# As you remember we need variable to accumulate gradients. Therefore first we create tensor, then we will create variable\n",
    "featuresTrain = torch.from_numpy(features_train)\n",
    "targetsTrain = torch.from_numpy(targets_train).type(torch.LongTensor) # data type is long\n",
    "\n",
    "# create feature and targets tensor for test set.\n",
    "featuresTest = torch.from_numpy(features_test)\n",
    "targetsTest = torch.from_numpy(targets_test).type(torch.LongTensor) # data type is long\n",
    "\n",
    "# create feature and targets tensor for train set. As you remember we need variable to accumulate gradients. Therefore first we create tensor, then we will create variable\n",
    "featuresTrain = torch.from_numpy(features_train)\n",
    "targetsTrain = torch.from_numpy(targets_train).type(torch.LongTensor) # data type is long\n",
    "\n",
    "# create feature and targets tensor for test set.\n",
    "featuresTest = torch.from_numpy(features_test)\n",
    "targetsTest = torch.from_numpy(targets_test).type(torch.LongTensor) # data type is long\n",
    "\n",
    "\n",
    "\n",
    "# batch_size, epoch and iteration\n",
    "batch_size = 100\n",
    "n_iters = 10000\n",
    "num_epochs = n_iters / (len(features_train) / batch_size)\n",
    "num_epochs = int(num_epochs)\n",
    "\n",
    "# Pytorch train and test sets\n",
    "train = torch.utils.data.TensorDataset(featuresTrain,targetsTrain)\n",
    "test = torch.utils.data.TensorDataset(featuresTest,targetsTest)\n",
    "\n",
    "# data loader\n",
    "train_loader = DataLoader(train, batch_size = batch_size, shuffle = False)\n",
    "test_loader = DataLoader(test, batch_size = batch_size, shuffle = False)\n",
    "\n",
    "# visualize one of the images in data set\n",
    "plt.imshow(features_numpy[10].reshape(28,28))\n",
    "plt.axis(\"off\")\n",
    "plt.title(str(targets_numpy[10]))\n",
    "plt.savefig('graph.png')\n",
    "plt.show()\n",
    "\n",
    "# in the model before training, convert input into Variable   e.g.\n",
    "for epoch in range(num_epochs):\n",
    "    for i, (images, labels) in enumerate(train_loader):\n",
    "        \n",
    "        # Define variables\n",
    "        train = train.to(device)\n",
    "        labels = labels.to(device)\n",
    "        \n",
    "        # Clear gradients\n",
    "        optimizer.zero_grad()\n",
    "        \n",
    "        # Forward propagation\n",
    "        outputs = model(train)\n",
    "        \n",
    "        # Calculate softmax and cross entropy loss\n",
    "        loss = error(outputs, labels)\n",
    "        \n",
    "        # Calculate gradients\n",
    "        loss.backward()\n",
    "        # Update parameters\n",
    "        optimizer.step()"
   ]
  },
  {
   "cell_type": "code",
   "execution_count": null,
   "id": "a48f642b",
   "metadata": {},
   "outputs": [],
   "source": []
  },
  {
   "cell_type": "code",
   "execution_count": null,
   "id": "90257bed",
   "metadata": {},
   "outputs": [],
   "source": []
  }
 ],
 "metadata": {
  "kernelspec": {
   "display_name": "Python 3",
   "language": "python",
   "name": "python3"
  },
  "language_info": {
   "codemirror_mode": {
    "name": "ipython",
    "version": 3
   },
   "file_extension": ".py",
   "mimetype": "text/x-python",
   "name": "python",
   "nbconvert_exporter": "python",
   "pygments_lexer": "ipython3",
   "version": "3.8.8"
  }
 },
 "nbformat": 4,
 "nbformat_minor": 5
}
