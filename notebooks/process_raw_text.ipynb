{
 "cells": [
  {
   "cell_type": "code",
   "execution_count": 13,
   "id": "448c4668",
   "metadata": {},
   "outputs": [],
   "source": [
    "# tutorial from http://www.nltk.org/book/ch03.html\n",
    "import nltk, re, pprint\n",
    "from nltk import word_tokenize\n",
    "from urllib import request\n"
   ]
  },
  {
   "cell_type": "code",
   "execution_count": 15,
   "id": "a0f9a042",
   "metadata": {},
   "outputs": [
    {
     "name": "stdout",
     "output_type": "stream",
     "text": [
      "1176967\n"
     ]
    },
    {
     "data": {
      "text/plain": [
       "'\\ufeffThe Project Gutenberg EBook of Crime and Punishment, by Fyodor Dostoevsky\\r'"
      ]
     },
     "execution_count": 15,
     "metadata": {},
     "output_type": "execute_result"
    }
   ],
   "source": [
    "url = \"http://www.gutenberg.org/files/2554/2554-0.txt\"\n",
    "response = request.urlopen(url)\n",
    "raw = response.read().decode('utf8')\n",
    "print(len(raw))\n",
    "raw[:75]"
   ]
  },
  {
   "cell_type": "code",
   "execution_count": 21,
   "id": "5a0c5467",
   "metadata": {},
   "outputs": [
    {
     "data": {
      "text/plain": [
       "['\\ufeffThe',\n",
       " 'Project',\n",
       " 'Gutenberg',\n",
       " 'EBook',\n",
       " 'of',\n",
       " 'Crime',\n",
       " 'and',\n",
       " 'Punishment',\n",
       " ',',\n",
       " 'by']"
      ]
     },
     "execution_count": 21,
     "metadata": {},
     "output_type": "execute_result"
    }
   ],
   "source": [
    "tokens= word_tokenize(raw)\n",
    "tokens[:10]"
   ]
  },
  {
   "cell_type": "code",
   "execution_count": 24,
   "id": "fc36fdbc",
   "metadata": {},
   "outputs": [
    {
     "name": "stdout",
     "output_type": "stream",
     "text": [
      "Katerina Ivanovna; Pyotr Petrovitch; Pulcheria Alexandrovna; Avdotya\n",
      "Romanovna; Rodion Romanovitch; Marfa Petrovna; Sofya Semyonovna; old\n",
      "woman; Project Gutenberg-tm; Porfiry Petrovitch; Amalia Ivanovna;\n",
      "great deal; young man; Nikodim Fomitch; Ilya Petrovitch; Project\n",
      "Gutenberg; Andrey Semyonovitch; Hay Market; Dmitri Prokofitch; Good\n",
      "heavens\n"
     ]
    }
   ],
   "source": [
    "text = nltk.Text(tokens)\n",
    "text[1024:1066]\n",
    "text.collocations()"
   ]
  },
  {
   "cell_type": "code",
   "execution_count": 30,
   "id": "1c227f36",
   "metadata": {},
   "outputs": [
    {
     "name": "stdout",
     "output_type": "stream",
     "text": [
      "Displaying 7 of 7 matches:\n",
      "hey say too few people now carry the gene for blondes to last beyond the next \n",
      "blonde hair is caused by a recessive gene . In order for a child to have blond\n",
      " have blonde hair , it must have the gene on both sides of the family in the g\n",
      "ere is a disadvantage of having that gene or by chance . They do n't disappear\n",
      "des would disappear is if having the gene was a disadvantage and I do not thin\n",
      "er's Polio campaign launched in Iraq Gene defect explains high blood pressure \n",
      "er's Polio campaign launched in Iraq Gene defect explains high blood pressure \n"
     ]
    }
   ],
   "source": [
    "import bs4\n",
    "from bs4 import BeautifulSoup\n",
    "\n",
    "url = \"http://news.bbc.co.uk/2/hi/health/2284783.stm\"\n",
    "html = request.urlopen(url).read().decode('utf8')\n",
    "raw = BeautifulSoup(html, 'html.parser').get_text()\n",
    "tokens = word_tokenize(raw)\n",
    "# print(tokens)÷\n",
    "text = nltk.Text(tokens)\n",
    "text.concordance('gene')"
   ]
  },
  {
   "cell_type": "code",
   "execution_count": 47,
   "id": "3f23b499",
   "metadata": {},
   "outputs": [
    {
     "name": "stderr",
     "output_type": "stream",
     "text": [
      "<ipython-input-47-35929006a5d9>:7: DeprecationWarning: 'U' mode is deprecated\n",
      "  raw = open(path, 'rU').read()\n"
     ]
    }
   ],
   "source": [
    "# read local files     add path to the nltk.data.path if cannot find the file. \n",
    "# print(nltk.data.path)    \n",
    "# nltk.data.path.append('/Users/marcochan/Desktop/NLP/dataset/')\n",
    "# print(nltk.data.path)\n",
    "\n",
    "path = nltk.data.find('../dataset/test_content2.txt')\n",
    "raw = open(path, 'rU').read()\n",
    "tokens = word_tokenize(raw)\n"
   ]
  },
  {
   "cell_type": "code",
   "execution_count": null,
   "id": "c69a4c79",
   "metadata": {},
   "outputs": [],
   "source": [
    "# Basic operation with strings\n",
    "couplet = \"Shall I compare thee to a Summer's day?\"\\\n",
    "...           \"Thou are more lovely and more temperate:\" \n",
    "print(couplet)\n",
    "Shall I compare thee to a Summer's day?Thou are more lovely and more temperate:\n",
    "couplet = (\"Rough winds do shake the darling buds of May,\"\n",
    "...           \"And Summer's lease hath all too short a date:\") [2]\n",
    " print(couplet)"
   ]
  },
  {
   "cell_type": "code",
   "execution_count": null,
   "id": "ba811881",
   "metadata": {},
   "outputs": [],
   "source": [
    "# get the count of each characters\n",
    "fdist = nltk.FreqDist(ch.lower() for ch in raw if ch.isalpha())\n",
    "[w for w in wordlist if re.search('ed$', w)]\n",
    "[w for w in wordlist if re.search('^[ghi][mno][jlk][def]$', w)]\n",
    "[w for w in wordlist if re.search('^..j..t..$', w)]\n",
    "[w for w in chat_words if re.search('^m+i+n+e+$', w)]\n",
    "['miiiiiiiiiiiiinnnnnnnnnnneeeeeeeeee', 'miiiiiinnnnnnnnnneeeeeeee', 'mine',\n",
    "'mmmmmmmmiiiiiiiiinnnnnnnnneeeeeeee']\n",
    "# It should be clear that + simply means \"one or more instances of the preceding item\",\n",
    "The regular expression «^m*i*n*e*$» will match everything that we found using «^m+i+n+e+$»,\n",
    "but also words where some of the letters don't appear at all, e.g. me, min, and mmmmm"
   ]
  },
  {
   "cell_type": "markdown",
   "id": "8464aa90",
   "metadata": {},
   "source": [
    "import re\n",
    "wordlist = ['0.85', '00.16', '00..17']\n",
    "res = [w for w in wordlist if re.search('^[0-9]+\\.+[0-9]+$', w)]\n",
    "print(res)\n",
    "\n",
    "Operator\tBehavior\n",
    ".\tWildcard, matches any character\n",
    "^abc\tMatches some pattern abc at the start of a string\n",
    "abc$\tMatches some pattern abc at the end of a string\n",
    "[abc]\tMatches one of a set of characters\n",
    "[A-Z0-9]\tMatches one of a range of characters\n",
    "ed|ing|s\tMatches one of the specified strings (disjunction)\n",
    "*\tZero or more of previous item, e.g. a*, [a-z]* (also known as Kleene Closure)\n",
    "+\tOne or more of previous item, e.g. a+, [a-z]+\n",
    "?\tZero or one of the previous item (i.e. optional), e.g. a?, [a-z]?\n",
    "{n}\tExactly n repeats where n is a non-negative integer\n",
    "{n,}\tAt least n repeats\n",
    "{,n}\tNo more than n repeats\n",
    "{m,n}\tAt least m and no more than n repeats\n",
    "a(b|c)+\tParentheses that indicate the scope of the operators"
   ]
  },
  {
   "cell_type": "code",
   "execution_count": null,
   "id": "476af3bc",
   "metadata": {},
   "outputs": [],
   "source": [
    "# look for all sequences of two or more vowels in some text\n",
    "fd = nltk.FreqDist(vs for word in wsj\n",
    "                   for vs in re.findall(r'[aeiou]{2,}', word))\n",
    "fd.most_common(12)"
   ]
  },
  {
   "cell_type": "code",
   "execution_count": null,
   "id": "ff7668e7",
   "metadata": {},
   "outputs": [],
   "source": [
    "# tokenization\n",
    "re.split(r' ', raw) # split by white space\n",
    "re.split(r'[ \\t\\n]+', raw)   # split by white space or \\t or \\n\n",
    "re.split(r'\\W+', raw)   # only keep words\n",
    "\n"
   ]
  }
 ],
 "metadata": {
  "kernelspec": {
   "display_name": "Python 3",
   "language": "python",
   "name": "python3"
  },
  "language_info": {
   "codemirror_mode": {
    "name": "ipython",
    "version": 3
   },
   "file_extension": ".py",
   "mimetype": "text/x-python",
   "name": "python",
   "nbconvert_exporter": "python",
   "pygments_lexer": "ipython3",
   "version": "3.8.8"
  }
 },
 "nbformat": 4,
 "nbformat_minor": 5
}
