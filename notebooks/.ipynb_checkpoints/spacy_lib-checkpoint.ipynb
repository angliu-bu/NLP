{
 "cells": [
  {
   "cell_type": "code",
   "execution_count": 1,
   "id": "7d7e74d4",
   "metadata": {},
   "outputs": [],
   "source": [
    "import spacy"
   ]
  },
  {
   "cell_type": "code",
   "execution_count": 6,
   "id": "af35b88c",
   "metadata": {},
   "outputs": [
    {
     "name": "stdout",
     "output_type": "stream",
     "text": [
      "I am the king of the world\n",
      "I --> PRON\n",
      "am --> AUX\n",
      "the --> DET\n",
      "king --> NOUN\n",
      "of --> ADP\n",
      "the --> DET\n",
      "world --> NOUN\n",
      "recoginize entities\n",
      "Apple 0 5 ORG\n",
      "U.K. 27 31 GPE\n",
      "$1 billion 44 54 MONEY\n"
     ]
    },
    {
     "data": {
      "text/plain": [
       "'particle'"
      ]
     },
     "execution_count": 6,
     "metadata": {},
     "output_type": "execute_result"
    }
   ],
   "source": [
    "model = spacy.load('en_core_web_sm')\n",
    "# create an object\n",
    "doc = model(\"I am the king of the world\")\n",
    "print(doc)\n",
    "# check what feature is active\n",
    "# model.pip_names\n",
    "# model.disable_pipes('tagger', 'parser')\n",
    "# model.pipe_names\n",
    "\n",
    "# recognize parts\n",
    "for token in doc:\n",
    "\n",
    "    print(token.text, \"-->\", token.pos_)\n",
    "# recognize entities, common things such as name, locations, organization.\n",
    "\n",
    "print(\"recoginize entities\")\n",
    "\n",
    "\n",
    "nlp = spacy.load(\"en_core_web_sm\")\n",
    "doc = nlp(\"Apple is looking at buying U.K. startup for $1 billion\")\n",
    "\n",
    "for ent in doc.ents:\n",
    "    print(ent.text, ent.start_char, ent.end_char, ent.label_)\n",
    "\n",
    "# explain each part:\n",
    "spacy.explain('PART')"
   ]
  },
  {
   "cell_type": "code",
   "execution_count": null,
   "id": "ae86643c",
   "metadata": {},
   "outputs": [],
   "source": []
  }
 ],
 "metadata": {
  "kernelspec": {
   "display_name": "Python 3",
   "language": "python",
   "name": "python3"
  },
  "language_info": {
   "codemirror_mode": {
    "name": "ipython",
    "version": 3
   },
   "file_extension": ".py",
   "mimetype": "text/x-python",
   "name": "python",
   "nbconvert_exporter": "python",
   "pygments_lexer": "ipython3",
   "version": "3.8.8"
  }
 },
 "nbformat": 4,
 "nbformat_minor": 5
}
